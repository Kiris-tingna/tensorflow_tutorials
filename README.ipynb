{
 "cells": [
  {
   "cell_type": "markdown",
   "metadata": {},
   "source": [
    "# TensorFlow Tutorials\n",
    "\n",
    "You can also read this tutorials in [nbviewer](http://nbviewer.jupyter.org/github/zlotus/tensorflow_tutorials/blob/master/README.ipynb). \n",
    "\n",
    "| | Source code | Description |\n",
    "| --- | --- | --- |\n",
    "|1| **[basics.ipynb](notebooks/01_basics.ipynb)** | Setup with tensorflow and graph computation.|\n",
    "|2| **[linear_regression.ipynb](notebooks/02_linear_regression.ipynb)** | Performing regression with a single factor and bias. |\n",
    "|3| **[polynomial_regression.ipynb](notebooks/03_polynomial_regression.ipynb)** | Performing regression using polynomial factors.|\n",
    "|4| **[logistic_regression.ipynb](notebooks/04_logistic_regression.ipynb)** | Performing logistic regression using a single layer neural network.|\n",
    "|5| **[basic_convnet.ipynb](notebooks/05_basic_convnet.ipynb)** | Building a deep convolutional neural network.|\n",
    "|6| **[modern_convnet.ipynb](notebooks/06_modern_convnet.ipynb)** | Building a deep convolutional neural network with batch normalization and leaky rectifiers.|\n",
    "|7| **[autoencoder.ipynb](notebooks/07_autoencoder.ipynb)** | Building a deep autoencoder with tied weights.|\n",
    "|8| **[denoising_autoencoder.ipynb](notebooks/08_denoising_autoencoder.ipynb)** | Building a deep denoising autoencoder which corrupts the input.|\n",
    "|9| **[convolutional_autoencoder.ipynb](notebooks/09_convolutional_autoencoder.ipynb)** | Building a deep convolutional autoencoder.|\n",
    "|10| **[residual_network.ipynb](notebooks/10_residual_network.ipynb)** | Building a deep residual network.|\n",
    "|11| **[variational_autoencoder.ipynb](notebooks/11_variational_autoencoder.ipynb)** | Building an autoencoder with a variational encoding.|"
   ]
  }
 ],
 "metadata": {
  "kernelspec": {
   "display_name": "Python [conda env:tensorflow]",
   "language": "python",
   "name": "conda-env-tensorflow-py"
  },
  "language_info": {
   "codemirror_mode": {
    "name": "ipython",
    "version": 3
   },
   "file_extension": ".py",
   "mimetype": "text/x-python",
   "name": "python",
   "nbconvert_exporter": "python",
   "pygments_lexer": "ipython3",
   "version": "3.5.2"
  }
 },
 "nbformat": 4,
 "nbformat_minor": 2
}
